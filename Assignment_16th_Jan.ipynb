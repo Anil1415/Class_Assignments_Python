{
 "cells": [
  {
   "cell_type": "code",
   "execution_count": null,
   "id": "0a09a569",
   "metadata": {},
   "outputs": [],
   "source": [
    "q1 : Create your own class to perform a list search operation \n",
    "q2 : create a class for dict new element addition\n",
    "q3 : create a class for tuple data extraction operation\n",
    "q4 : Create a class to implement all insert , update , delete operation for mysql\n",
    "q5 : create a class to implement insert , uupdate and delete in monngo db \n",
    "q6 : create a class to perform append and delete operation in a file and inherit it in child class \n",
    "q7 : create a class to import a data into file from mongo db \n",
    "q8 : Create a class to build a calculator funcnalities addition , subtraction , multiplication ,div , log , exponenet , power \n",
    "q9 : create a class method to find a time and space complexity of any function\n",
    "q10: create a class to do a bulk uplaod of a file in mysql \n",
    "q11: give 10 different example of ploymorphism , encaptulation ,data  abstraction , overloading , ovverriding , multiple inheritance\n",
    "q12: Try to explore a meaning of \"-> \" this sinnature in python \n",
    "\n",
    "you have to complete this task before next saturday (21st of jan 2023) class and send it to me : sudhanshu@ineuron.ai with up and running code\n",
    "\n",
    "class timeinig for 21st and 22nd will be 10 AM IST , only for one week as i am traveling (sat and sun ) after that it will be \n",
    "same as per our regular schedule "
   ]
  },
  {
   "cell_type": "code",
   "execution_count": null,
   "id": "1483d81f",
   "metadata": {},
   "outputs": [],
   "source": [
    "Create a class to perform a list search operation "
   ]
  },
  {
   "cell_type": "code",
   "execution_count": null,
   "id": "757c764d",
   "metadata": {},
   "outputs": [],
   "source": [
    "import logging\n",
    "logging.basicConfig(filename=\"List_search.log\",level=logging.DEBUG,filemode='w', format=\"%(asctime)s %(levelname)s %(message)s\")\n",
    "\n",
    "class list_search:\n",
    "    try:\n",
    "        def __init__(self, data):\n",
    "            self.data = data\n",
    "\n",
    "        def search(self, value):\n",
    "            self.value = value\n",
    "            logging.info(\"Searching ....\")\n",
    "            i=0\n",
    "            while i < (len(self.data)):\n",
    "                if (self.data)[i] == self.value:\n",
    "                    logging.info(\"Search is successful!!!!\")\n",
    "                    return i\n",
    "                \n",
    "                i = i+1\n",
    "            \n",
    "            else: \n",
    "                logging.info(\"Search is unsuccessful!!!!\")\n",
    "                return False\n",
    "    except Exception as e:\n",
    "        logging.error(\"Error occured\")\n",
    "        logging.exception(e)\n",
    "        \n",
    "obj_list_search = list_search([\"Anil\",1,2 ,3,1.3])\n",
    "obj_list_search.search(\"Al\")"
   ]
  },
  {
   "cell_type": "code",
   "execution_count": null,
   "id": "e4879a17",
   "metadata": {},
   "outputs": [],
   "source": []
  },
  {
   "cell_type": "code",
   "execution_count": null,
   "id": "e8bee06e",
   "metadata": {},
   "outputs": [],
   "source": [
    "\n",
    "def list_input(*args):\n",
    "    \n",
    "    list_as_input = list(args)\n",
    "    return list_as_input\n",
    "list_input(1,2,3,4,'anil',1.2)"
   ]
  },
  {
   "cell_type": "code",
   "execution_count": null,
   "id": "3744e111",
   "metadata": {},
   "outputs": [],
   "source": [
    "\n",
    "def list_search(x,y):\n",
    "    \n",
    "    i = 0\n",
    "    while i<len(x):\n",
    "        if y == x[i]:\n",
    "            return (x[i])\n",
    "        i = i+1\n",
    "\n",
    "list_search([1,2,3,4,'Anil'],\"Anil\")"
   ]
  },
  {
   "cell_type": "code",
   "execution_count": null,
   "id": "4f1a8910",
   "metadata": {},
   "outputs": [],
   "source": []
  },
  {
   "cell_type": "code",
   "execution_count": null,
   "id": "37683c04",
   "metadata": {},
   "outputs": [],
   "source": [
    "q2 : create a class for dict new element addition"
   ]
  },
  {
   "cell_type": "code",
   "execution_count": null,
   "id": "9f4d032c",
   "metadata": {},
   "outputs": [],
   "source": [
    "d = {'key1':(12,),'key2': [1,2,3]}"
   ]
  },
  {
   "cell_type": "code",
   "execution_count": null,
   "id": "d2d0889c",
   "metadata": {},
   "outputs": [],
   "source": []
  },
  {
   "cell_type": "code",
   "execution_count": 2,
   "id": "21ad9044",
   "metadata": {},
   "outputs": [
    {
     "name": "stdout",
     "output_type": "stream",
     "text": [
      "enter a key input: key3\n",
      "enter a value: hh\n"
     ]
    },
    {
     "data": {
      "text/plain": [
       "{'key1': 12, 'key2': [12, 3, 4], 'key3': 'hh'}"
      ]
     },
     "execution_count": 2,
     "metadata": {},
     "output_type": "execute_result"
    }
   ],
   "source": [
    "import logging\n",
    "logging.basicConfig(filename='dict_addition.log',level=logging.DEBUG, filemode=\"w\",format = \"%(lineno)d - %(asctime)s - %(levelname)s - %(message)s\")\n",
    "\n",
    "class dict_addition:\n",
    "    \n",
    "    def __init__(self,d):\n",
    "        self.d = d\n",
    "        \n",
    "    def element_to_add(self):\n",
    "        logging.info(\"Inside the element to add method\")\n",
    "        try:\n",
    "            if type(self.d) == dict:\n",
    "                logging.info(\"inserted element is a dictionary type\")\n",
    "                key = input('enter a key input: ')\n",
    "                value = input(\"enter a value: \")\n",
    "                self.d[key]= value\n",
    "                return self.d\n",
    "        except Exception as e:\n",
    "            logging.error(\"An error occured\",e)\n",
    "           \n",
    "            \n",
    "obj_dict_addition = dict_addition({\"key1\":12,\"key2\":[12,3,4]})\n",
    "obj_dict_addition.element_to_add()"
   ]
  },
  {
   "cell_type": "code",
   "execution_count": null,
   "id": "07746550",
   "metadata": {},
   "outputs": [],
   "source": []
  },
  {
   "cell_type": "code",
   "execution_count": null,
   "id": "62a92c38",
   "metadata": {},
   "outputs": [],
   "source": []
  },
  {
   "cell_type": "code",
   "execution_count": null,
   "id": "95b9efe9",
   "metadata": {},
   "outputs": [],
   "source": [
    "q3 : create a class for tuple data extraction operation"
   ]
  },
  {
   "cell_type": "code",
   "execution_count": 3,
   "id": "82d47812",
   "metadata": {},
   "outputs": [
    {
     "name": "stdout",
     "output_type": "stream",
     "text": [
      "Enter the starting index number1\n",
      "Enter the end of the index number4\n"
     ]
    },
    {
     "data": {
      "text/plain": [
       "(2, 3, 4)"
      ]
     },
     "execution_count": 3,
     "metadata": {},
     "output_type": "execute_result"
    }
   ],
   "source": [
    "class tuple_extract:\n",
    "    \n",
    "    def __init__(self,tuple_data):\n",
    "        self.tuple_data = tuple_data\n",
    "        \n",
    "    def extract_data(self):\n",
    "        try:\n",
    "            start = int(input(\"Enter the starting index number\"))\n",
    "            end = int(input('Enter the end of the index number'))\n",
    "            return self.tuple_data[start:end] # tuple slicing\n",
    "        except Exception as e:\n",
    "            print('An error occured',e)\n",
    "        \n",
    "        \n",
    "obj_tuple_extract = tuple_extract((1,2,3,4,5,'abc'))\n",
    "\n",
    "obj_tuple_extract.extract_data()"
   ]
  },
  {
   "cell_type": "code",
   "execution_count": null,
   "id": "aa1e7936",
   "metadata": {},
   "outputs": [],
   "source": []
  },
  {
   "cell_type": "code",
   "execution_count": null,
   "id": "dae1bd3a",
   "metadata": {},
   "outputs": [],
   "source": [
    "q4 : Create a class to implement all insert , update , delete operation for mysql"
   ]
  },
  {
   "cell_type": "code",
   "execution_count": null,
   "id": "b89d7f89",
   "metadata": {},
   "outputs": [],
   "source": [
    "from pprint import pprint\n",
    "pprint(data)"
   ]
  },
  {
   "cell_type": "code",
   "execution_count": null,
   "id": "266bc26b",
   "metadata": {},
   "outputs": [],
   "source": [
    "# pip install mysql-connector-python\n",
    "import mysql.connector\n",
    "# import mysql.connector\n",
    "class my_sql:\n",
    "    \n",
    "    def __init__(self,host_name,user_name,password_sql):\n",
    "     \n",
    "        self.host_name = host_name\n",
    "        self.user_name = user_name\n",
    "        self.password_sql = password_sql\n",
    "   \n",
    "    def get_connect(self):\n",
    "        \n",
    "        self.my_db = mysql.connector.connect(host = self.host_name,user= self.user_name,password=self.password_sql)\n",
    "        return self.my_db\n",
    "    \n",
    "    def get_cursor(self):\n",
    "        self.cursor = self.my_db.cursor()\n",
    "        return self.cursor\n",
    "    \n",
    "    def database(self,db_name):\n",
    "        self.db_name = db_name\n",
    "        return self.cursor.execute(f\"create database if not exists {self.db_name}\")\n",
    "    \n",
    "    def table(self,table_name, table_columns):\n",
    "        self.table_name = table_name\n",
    "        self.table_columns = table_columns\n",
    "        self.cursor.execute(f\"use {self.db_name}\")\n",
    "        self.cursor.execute(f\"create table {self.table_name}({self.table_columns})\")\n",
    "        self.my_db.commit()\n",
    "        \n",
    "    \n",
    "    def insert_values(self,table_name,table_values):\n",
    "        self.table_name = table_name\n",
    "\n",
    "\n",
    "        self.table_values = table_values\n",
    "        # self.cursor.execute(f\"use {self.db_name}\")\n",
    "        \n",
    "        self.cursor.execute(f\"insert into {self.table_name} values{self.table_values}\")\n",
    "        self.my_db.commit()\n",
    "        \n",
    "    def details(self, detail):\n",
    "        \n",
    "        self.detail = detail\n",
    "        self.cursor.execute(self.detail)\n",
    "        print(self.cursor.fetchall())\n",
    "        \n",
    "    def update_table(self,new_update):\n",
    "        self.new_update = new_update\n",
    "        self.cursor.execute(self.new_update)\n",
    "        self.my_db.commit()\n",
    "        \n",
    "    def delete_row_values(self,del_row_values):\n",
    "        \n",
    "        self.del_row_values = del_row_values\n",
    "        self.cursor.execute(self.del_row_values)\n",
    "        self.my_db.commit()"
   ]
  },
  {
   "cell_type": "code",
   "execution_count": null,
   "id": "d83ed2fe",
   "metadata": {},
   "outputs": [],
   "source": [
    "mysql_obj = my_sql('localhost','root','<password>')\n",
    "mysql_obj.get_connect()\n",
    "mysql_obj.get_cursor()"
   ]
  },
  {
   "cell_type": "code",
   "execution_count": null,
   "id": "28e6565e",
   "metadata": {},
   "outputs": [],
   "source": [
    "mysql_obj.database(\"ram\")\n",
    "mysql_obj.table(\"table3\",\"roll_no int, name varchar(40),adress varchar(30), age int\")\n",
    "my_sql.insert_values(\"table3\",\"(1234, 'Anil', 'kmr', 25)\")\n",
    "mysql_obj.details(\"select * from ineuron.fsds\")\n",
    "mysql_obj.update_table(\"update ineuron.fsds set registrationdate = '2023-01-21' where registrationdate = '2022-11-11'\")\n",
    "mysql_obj.details(\"select * from ineuron.fsds\")\n",
    "mysql_obj.delete_row_values(\"delete from customery.person where last_name = 'naik1'\")\n",
    "mysql_obj.details(\"select * from customery.person\")"
   ]
  },
  {
   "cell_type": "code",
   "execution_count": null,
   "id": "23863444",
   "metadata": {},
   "outputs": [],
   "source": []
  },
  {
   "cell_type": "code",
   "execution_count": null,
   "id": "7bf838c7",
   "metadata": {},
   "outputs": [],
   "source": [
    "q5 : create a class to implement insert , update and delete in monngo db "
   ]
  },
  {
   "cell_type": "code",
   "execution_count": null,
   "id": "1ab33aaa",
   "metadata": {},
   "outputs": [],
   "source": [
    "pip install pymongo"
   ]
  },
  {
   "cell_type": "code",
   "execution_count": null,
   "id": "8e6dde96",
   "metadata": {},
   "outputs": [],
   "source": [
    "import pymongo\n",
    "client = pymongo.MongoClient(\"mongodb+srv://anil1415:<password>@cluster0.yg4bnlv.mongodb.net/?retryWrites=true&w=majority\")\n",
    "db = client.test\n",
    "print(db)"
   ]
  },
  {
   "cell_type": "code",
   "execution_count": null,
   "id": "41ca9b19",
   "metadata": {},
   "outputs": [],
   "source": [
    "import pandas as pd\n",
    "db = client.ineuron\n",
    "collection  = db.fsds_8th\n",
    "data_test = pd.DataFrame(list(collection.find()))\n",
    "from pprint import pprint\n",
    "pprint(data_test)"
   ]
  },
  {
   "cell_type": "code",
   "execution_count": null,
   "id": "016df93d",
   "metadata": {},
   "outputs": [],
   "source": [
    "db = client.sask"
   ]
  },
  {
   "cell_type": "code",
   "execution_count": null,
   "id": "ab0d1c98",
   "metadata": {},
   "outputs": [],
   "source": [
    "db = client.sask"
   ]
  },
  {
   "cell_type": "code",
   "execution_count": null,
   "id": "60339a92",
   "metadata": {},
   "outputs": [],
   "source": [
    "collection  = db.course"
   ]
  },
  {
   "cell_type": "code",
   "execution_count": null,
   "id": "b9a9ef1d",
   "metadata": {},
   "outputs": [],
   "source": [
    "data = pd.DataFrame(list(collection.find()))"
   ]
  },
  {
   "cell_type": "code",
   "execution_count": null,
   "id": "3e402d87",
   "metadata": {},
   "outputs": [],
   "source": [
    "from pprint import pprint\n",
    "pprint(data)"
   ]
  },
  {
   "cell_type": "code",
   "execution_count": null,
   "id": "dfd21e25",
   "metadata": {},
   "outputs": [],
   "source": []
  },
  {
   "cell_type": "code",
   "execution_count": null,
   "id": "b0b48a6c",
   "metadata": {},
   "outputs": [],
   "source": [
    "q6 : create a class to perform append and delete operation in a file and inherit it in child class ?"
   ]
  },
  {
   "cell_type": "code",
   "execution_count": null,
   "id": "bdde997c",
   "metadata": {},
   "outputs": [],
   "source": [
    "import logging\n",
    "\n",
    "logging.basicConfig(filename='file_operations.log', level=logging.DEBUG,filemode='w', format=''%(asctime)s %(levelname)s %(message)s\")\n",
    "\n",
    "import logging\n",
    "logging.basicConfig(filename = 'test3.log',level = logging.DEBUG, format = '%(asctime)s %(levelname)s %(message)s')\n",
    "\n",
    "# asctime = asynchronous time\n"
   ]
  },
  {
   "cell_type": "code",
   "execution_count": null,
   "id": "a02dc885",
   "metadata": {},
   "outputs": [],
   "source": [
    "import logging\n",
    "\n",
    "logging.basicConfig(filename='file_operations.log', level=logging.DEBUG,filemode='w', format= \"%(asctime)s %(levelname)s %(message)s\")\n",
    "\n",
    "\n",
    "# asctime = asynchronous time\n",
    "\n",
    "\n",
    "class file_operation:\n",
    "    \n",
    "    def __init__(self, filename):\n",
    "        self.filename = filename\n",
    "        self.filename = input(\"Enter the file name: \")\n",
    "    def write_a_file(self,txt):\n",
    "        logging.info(\"This is start of write operation\")\n",
    "\n",
    "\n",
    "        try:\n",
    "            \n",
    "            with open(self.filename,'w') as fo:\n",
    "                write_file = fo.write(txt)\n",
    "                fo.close()\n",
    "                logging.info(\"Closed file after writing\")\n",
    "                return write_file\n",
    "        except Exception as e:\n",
    "            logging.error(\"There is something issue with write operation\")\n",
    "    \n",
    "    def read_a_file(self):\n",
    "        logging.info(\"This is start of read operation\")\n",
    "        \n",
    "\n",
    "        try:\n",
    "       \n",
    "            with open(self.filename,'r') as fo: # file operation\n",
    "                read_file = fo.read()\n",
    "\n",
    "                fo.close()\n",
    "                logging.info(\"Closed file after reading\")\n",
    "\n",
    "                return read_file\n",
    "            \n",
    "        except FileNotFoundError as e:\n",
    "            logging.error(\"There is some issue with read operation: \",e)\n",
    "            \n",
    "    \n",
    "class child_file_operation(file_operation):\n",
    "    \n",
    "    # __init__() function is called automatically every time the class is being used to create a new object\n",
    "    def __init__(self, filename):\n",
    "        logging .info(\"This is from child class\")\n",
    "        file_operation.__init__(self,filename)\n",
    "\n"
   ]
  },
  {
   "cell_type": "code",
   "execution_count": null,
   "id": "83010c51",
   "metadata": {},
   "outputs": [],
   "source": [
    "obj_file_operation = file_operation(filename)\n",
    "obj_file_operation.write_a_file(\"This is  a second file\")\n",
    "obj_file_operation.read_a_file()\n",
    "obj_child = child_file_operation('a1.txt')\n",
    "obj_child.write_a_file(\"This is written from child class\")\n",
    "obj_child.read_a_file()"
   ]
  },
  {
   "cell_type": "code",
   "execution_count": null,
   "id": "1e2efe79",
   "metadata": {},
   "outputs": [],
   "source": []
  },
  {
   "cell_type": "code",
   "execution_count": null,
   "id": "6b0769ed",
   "metadata": {},
   "outputs": [],
   "source": [
    "q7 : create a class to import a data into file from mongo db "
   ]
  },
  {
   "cell_type": "code",
   "execution_count": null,
   "id": "b383923e",
   "metadata": {},
   "outputs": [],
   "source": [
    "class mongodb : \n",
    "    \n",
    "    def __init__(self , userid1 , password1, data ) :\n",
    "        \n",
    "        \"\"\"\n",
    "        this is a code for mongodb connectivity and its related application \n",
    "        \"\"\"\n",
    "        self.userid = userid1\n",
    "        self.password = password1 \n",
    "        self.data = data \n",
    "    \n",
    "    \n",
    "    def connect(self) :\n",
    "        print(\"this fun will help you to coonnect with your mongo db \")\n",
    "        url = \"mongodb+srv://\" + self.userid + \":\" + self.password+ \"@cluster0.qivyyos.mongodb.net/?retryWrites=true&w=majority\"\n",
    "        client = pymongo.MongoClient(url)\n",
    "        return client\n",
    "        \n",
    "    def insert(self ):\n",
    "        conn = self.connect()\n",
    "        print(\"this fun will help you to insert into mondo db \")\n",
    "        db = conn['mongodb_test']\n",
    "        coll = db['mongo_record']\n",
    "        coll.insert_one(self.data)\n",
    "        \n",
    "    def update(self):\n",
    "        print(\"this fun will help you to update in mongodb\")"
   ]
  },
  {
   "cell_type": "code",
   "execution_count": null,
   "id": "0c22ae42",
   "metadata": {},
   "outputs": [],
   "source": [
    "mongo = mongodb(\"mongodb\" , \"mongodb\")\n"
   ]
  },
  {
   "cell_type": "code",
   "execution_count": null,
   "id": "eb6ef297",
   "metadata": {},
   "outputs": [],
   "source": []
  },
  {
   "cell_type": "code",
   "execution_count": null,
   "id": "6b7a6df0",
   "metadata": {},
   "outputs": [],
   "source": [
    "q8 : Create a class to build a calculator functionalities addition , subtraction , multiplication, \n",
    "     div , log , exponenet , power?"
   ]
  },
  {
   "cell_type": "code",
   "execution_count": null,
   "id": "ddb2fe17",
   "metadata": {},
   "outputs": [],
   "source": [
    "def add(x1,x2):\n",
    "    return x1+x2\n",
    "\n",
    "def substract(x1,x2):\n",
    "    return x1-x2\n",
    "\n",
    "def multiply(x1,x2):\n",
    "    return x1*x2\n",
    "\n",
    "def division(x1,x2):\n",
    "    return x1/x2\n",
    "    \n",
    "def menu():\n",
    "    try:\n",
    "        value = int(input(\"\"\"\n",
    "        Select operations:\n",
    "\n",
    "        1 --> Addition (+)\n",
    "        2 --> Substraction (-)\n",
    "        3 --> Multiplication (*)\n",
    "        4 --> Division (/): \n",
    "        5 --> Exit\n",
    "\n",
    "        \"\"\"))\n",
    "        return value\n",
    "\n",
    "    except Exception as e:\n",
    "        print(\"An error occured: \",e)\n",
    "    \n",
    "\n",
    "\n",
    "\n",
    "\n",
    "def main(): \n",
    "    \n",
    "    operation = 0\n",
    "    \n",
    "    while operation <= 5:\n",
    "        try:       \n",
    "            operation = menu()\n",
    "            a= float(input('Enter first number: '))\n",
    "            b= float(input('Enter second number: '))\n",
    "            \n",
    "        except Exception as e:\n",
    "            print(\"an error occured in main() function: \",e)\n",
    "            return main()\n",
    "        \n",
    "        if operation == 5:\n",
    "            print(\"User does not like to proceed.\")\n",
    "            break\n",
    "\n",
    "        elif operation == 1:\n",
    "            print(f\"The addition of {a} + {b}  = {add(a,b)}\")\n",
    "\n",
    "        elif operation == 2:\n",
    "            print(f\"The Substraction  of {a} - {b}  = {substract(a,b)}\")\n",
    "        elif operation == 3:\n",
    "            print(f\"The product of {a} * {b}  = {multiply(a,b)}\")\n",
    "            \n",
    "        elif operation == 4 or b == 0:\n",
    "            try:\n",
    "                print(f\"The division os {a} / {b} is :{a/b} \")\n",
    "            except Exception as e:\n",
    "                print(\"Zero division error occured\",e)\n",
    "           \n",
    "        \n",
    "        \n",
    "        cal_again = input(\"Do you want to perform another operation (y/n): \")\n",
    "        \n",
    "        if cal_again.upper() == 'Y':\n",
    "            main()\n",
    "            break\n",
    "            \n",
    "        else:\n",
    "            print(\"Calculation ended\")\n",
    "            break\n",
    "        \n",
    "        \n",
    "\n",
    "main()"
   ]
  },
  {
   "cell_type": "code",
   "execution_count": null,
   "id": "f1e3a9a5",
   "metadata": {},
   "outputs": [],
   "source": []
  },
  {
   "cell_type": "code",
   "execution_count": null,
   "id": "3942483f",
   "metadata": {},
   "outputs": [],
   "source": [
    "q9 : create a class method to find a time and space complexity of any function?"
   ]
  },
  {
   "cell_type": "code",
   "execution_count": null,
   "id": "df421b8d",
   "metadata": {},
   "outputs": [],
   "source": []
  },
  {
   "cell_type": "code",
   "execution_count": null,
   "id": "cacce0f5",
   "metadata": {},
   "outputs": [],
   "source": []
  },
  {
   "cell_type": "code",
   "execution_count": null,
   "id": "743e30ac",
   "metadata": {},
   "outputs": [],
   "source": []
  },
  {
   "cell_type": "code",
   "execution_count": null,
   "id": "ce684dde",
   "metadata": {},
   "outputs": [],
   "source": [
    "import time\n",
    "import tracemalloc\n",
    "\n",
    "class Complexity:\n",
    "    def __init__(self):\n",
    "        pass\n",
    "    \n",
    "    @staticmethod\n",
    "    def time_complexity(fn, *args):\n",
    "        start_time = time.time()\n",
    "        fn(*args)\n",
    "        end_time = time.time()\n",
    "        return end_time - start_time\n",
    "    \n",
    "    \n",
    "    def space_complexity(self , fn , *args):\n",
    "        tracemalloc.start()\n",
    "        fn(*args)\n",
    "        current, peak =  tracemalloc.get_traced_memory()\n",
    "        tracemalloc.stop()\n",
    "        \n",
    "        return current, peak"
   ]
  },
  {
   "cell_type": "code",
   "execution_count": null,
   "id": "68c4488d",
   "metadata": {},
   "outputs": [],
   "source": []
  },
  {
   "cell_type": "code",
   "execution_count": null,
   "id": "cd8201f7",
   "metadata": {},
   "outputs": [],
   "source": [
    "# raw data of glass \n",
    "https://raw.githubusercontent.com/iNeuronai/sql-and-mongo/main/glass.data"
   ]
  },
  {
   "cell_type": "code",
   "execution_count": null,
   "id": "e62ce097",
   "metadata": {},
   "outputs": [],
   "source": [
    "q10: create a class to do a bulk upload of a file in mysql?"
   ]
  },
  {
   "cell_type": "code",
   "execution_count": null,
   "id": "a92968e2",
   "metadata": {},
   "outputs": [],
   "source": [
    "import logging\n",
    "import mysql.connector as conn\n",
    "import csv\n",
    "import pandas as pd\n",
    "from pprint import pprint\n",
    "\n",
    "\n",
    "# logging.basicConfig(filename= \"sql_bulk_upload.log\",level=logging.DEBUG, filemode= 'w', format = \"%(asctime)s %(levelname)s %(message)s\")\n",
    "\n",
    "\n",
    "class MYSQL_bulk_upload:\n",
    "    \n",
    "    \n",
    "    def __init__(self,host,user,password):\n",
    "        self.host = host\n",
    "        self.user = user\n",
    "        self.password = password\n",
    "        \n",
    "        \n",
    "    def connect_mysql(self):\n",
    "        \n",
    "        self.mydb = conn.connect(host = self.host, user = self.user, password = self.password)\n",
    "        print(self.mydb)\n",
    "        self.cursor = self.mydb.cursor()\n",
    "        #cursor = cursor\n",
    "        # logging.info(\"Connection to my sql is successful\")\n",
    "        print(\"Connection to mysql is successful\")\n",
    "        \n",
    "    def database(self,db_name):\n",
    "        self.db_name = db_name\n",
    "        return self.cursor.execute(f'create database if not exists {self.db_name}')\n",
    "    \n",
    "    def table(self, table_name, columns):\n",
    "        self.table_name = table_name\n",
    "        self.columns = columns\n",
    "        self.cursor.execute(f\"use {self.db_name}\")\n",
    "\n",
    "        self.cursor.execute(f'create table if not exists {self.table_name}({self.columns})')\n",
    "        self.mydb.commit()\n",
    "        # logging.info(f\"{table_name} table is successfully created\")\n",
    "        print(f\"{self.table_name} table is created\")\n",
    "        \n",
    "    def insert_data_values(self, csv_file):\n",
    "        \n",
    "        self.csv_file = csv_file\n",
    "        with open(csv_file,'r') as fo:\n",
    "            data = csv.reader(fo,delimiter = '\\n')\n",
    "            next(data)\n",
    "            for i in data:\n",
    "                self.cursor.execute(f\"insert into {self.db_name}.{self.table_name} values({str(i[0])})\")\n",
    "                \n",
    "            self.mydb.commit()\n",
    "            \n",
    "            # logging.info('Bulk upload is successful')\n",
    "    def show_data(self):\n",
    "        self.cursor.execute(f\"select * from {self.table_name}\")\n",
    "        pprint(self.cursor.fetchall())\n",
    "            \n",
    "        "
   ]
  },
  {
   "cell_type": "code",
   "execution_count": null,
   "id": "592c273c",
   "metadata": {},
   "outputs": [],
   "source": [
    "obj_MYSQL_bulk_upload = MYSQL_bulk_upload('localhost', 'root', 'Newedge@123')"
   ]
  },
  {
   "cell_type": "code",
   "execution_count": null,
   "id": "a968fb8d",
   "metadata": {},
   "outputs": [],
   "source": [
    "obj_MYSQL_bulk_upload.connect_mysql()"
   ]
  },
  {
   "cell_type": "code",
   "execution_count": null,
   "id": "00678731",
   "metadata": {},
   "outputs": [],
   "source": [
    "obj_MYSQL_bulk_upload.database(\"glass_data\")"
   ]
  },
  {
   "cell_type": "code",
   "execution_count": null,
   "id": "ac8203e7",
   "metadata": {},
   "outputs": [],
   "source": [
    "obj_MYSQL_bulk_upload.table(\"data_values\",'col_1 int, col_2 float, col_3 float, col_4 float, col_5 float, col_6 float, col_7 float,col_8 float, col_9 float,col_10 float, col_11 int' )"
   ]
  },
  {
   "cell_type": "code",
   "execution_count": null,
   "id": "6161cc6c",
   "metadata": {},
   "outputs": [],
   "source": [
    "a = pd.read_csv('https://raw.githubusercontent.com/iNeuronai/sql-and-mongo/main/glass.data')\n",
    "# pd.DataFrame.to_csv('https://raw.githubusercontent.com/iNeuronai/sql-and-mongo/main/glass.data')"
   ]
  },
  {
   "cell_type": "code",
   "execution_count": null,
   "id": "facb0826",
   "metadata": {},
   "outputs": [],
   "source": [
    "print(a)"
   ]
  },
  {
   "cell_type": "code",
   "execution_count": null,
   "id": "0e966c09",
   "metadata": {},
   "outputs": [],
   "source": [
    "obj_MYSQL_bulk_upload.insert_data_values('glass.data')"
   ]
  },
  {
   "cell_type": "code",
   "execution_count": null,
   "id": "da8d9f62",
   "metadata": {},
   "outputs": [],
   "source": [
    "obj_MYSQL_bulk_upload.show_data()"
   ]
  },
  {
   "cell_type": "code",
   "execution_count": null,
   "id": "593411c2",
   "metadata": {},
   "outputs": [],
   "source": []
  },
  {
   "cell_type": "code",
   "execution_count": null,
   "id": "7109ec87",
   "metadata": {},
   "outputs": [],
   "source": [
    "q11: Give 10 different examples of ploymorphism, encapsulation, data abstraction, overloading, \n",
    "     overriding, multiple inheritance?"
   ]
  },
  {
   "cell_type": "code",
   "execution_count": null,
   "id": "b4a25d50",
   "metadata": {},
   "outputs": [],
   "source": []
  },
  {
   "cell_type": "code",
   "execution_count": null,
   "id": "ce7c7eb7",
   "metadata": {},
   "outputs": [],
   "source": []
  },
  {
   "cell_type": "code",
   "execution_count": null,
   "id": "375222af",
   "metadata": {},
   "outputs": [],
   "source": []
  },
  {
   "cell_type": "code",
   "execution_count": null,
   "id": "639578d7",
   "metadata": {},
   "outputs": [],
   "source": []
  },
  {
   "cell_type": "code",
   "execution_count": null,
   "id": "9dc6c763",
   "metadata": {},
   "outputs": [],
   "source": []
  },
  {
   "cell_type": "code",
   "execution_count": null,
   "id": "018bbca8",
   "metadata": {},
   "outputs": [],
   "source": [
    "q12: Try to explore a meaning of \"-> \" this signature in python "
   ]
  },
  {
   "cell_type": "code",
   "execution_count": null,
   "id": "11963b36",
   "metadata": {},
   "outputs": [],
   "source": [
    "def test() -> int : \n",
    "    return 'okay'"
   ]
  },
  {
   "cell_type": "code",
   "execution_count": null,
   "id": "dba9d97f",
   "metadata": {},
   "outputs": [],
   "source": [
    "test()"
   ]
  },
  {
   "cell_type": "code",
   "execution_count": null,
   "id": "2f85b30a",
   "metadata": {},
   "outputs": [],
   "source": []
  },
  {
   "cell_type": "code",
   "execution_count": null,
   "id": "cd22e44a",
   "metadata": {},
   "outputs": [],
   "source": []
  },
  {
   "cell_type": "code",
   "execution_count": null,
   "id": "96004817",
   "metadata": {},
   "outputs": [],
   "source": []
  },
  {
   "cell_type": "code",
   "execution_count": null,
   "id": "85653038",
   "metadata": {},
   "outputs": [],
   "source": []
  }
 ],
 "metadata": {
  "kernelspec": {
   "display_name": "Python 3 (ipykernel)",
   "language": "python",
   "name": "python3"
  },
  "language_info": {
   "codemirror_mode": {
    "name": "ipython",
    "version": 3
   },
   "file_extension": ".py",
   "mimetype": "text/x-python",
   "name": "python",
   "nbconvert_exporter": "python",
   "pygments_lexer": "ipython3",
   "version": "3.9.12"
  }
 },
 "nbformat": 4,
 "nbformat_minor": 5
}
