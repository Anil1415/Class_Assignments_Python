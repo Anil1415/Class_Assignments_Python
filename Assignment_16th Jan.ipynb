{
 "cells": [
  {
   "cell_type": "code",
   "execution_count": null,
   "id": "0a09a569",
   "metadata": {},
   "outputs": [],
   "source": [
    "q1 : Create your own class to perform a list search operation \n",
    "q2 : create a class for dict new element addition\n",
    "q3 : create a class for tuple data extraction operation\n",
    "q4 : Create a class to implement all insert , update , delete operation for mysql\n",
    "q5 : create a class to implement insert , uupdate and delete in monngo db \n",
    "q6 : create a class to perform append and delete operation in a file and inherit it in child class \n",
    "q7 : create a class to import a data into file from mongo db \n",
    "q8 : Create a class to build a calculator funcnalities addition , subtraction , multiplication ,div , log , exponenet , power \n",
    "q9 : create a class method to find a time and space complexity of any function\n",
    "q10: create a class to do a bulk uplaod of a file in mysql \n",
    "q11: give 10 different example of ploymorphism , encaptulation ,data  abstraction , overloading , ovverriding , multiple inheritance\n",
    "q12: Try to explore a meaning of \"-> \" this sinnature in python \n",
    "\n",
    "you have to complete this task before next saturday (21st of jan 2023) class and send it to me : sudhanshu@ineuron.ai with up and running code\n",
    "\n",
    "class timeinig for 21st and 22nd will be 10 AM IST , only for one week as i am traveling (sat and sun ) after that it will be \n",
    "same as per our regular schedule "
   ]
  },
  {
   "cell_type": "code",
   "execution_count": null,
   "id": "1483d81f",
   "metadata": {},
   "outputs": [],
   "source": [
    "Create a class to perform a list search operation "
   ]
  },
  {
   "cell_type": "code",
   "execution_count": null,
   "id": "09f471f2",
   "metadata": {},
   "outputs": [],
   "source": [
    "def list_search(x, my_list):\n",
    "    \n",
    "    \n",
    "    j = 0\n",
    "    while j < len(my_list):\n",
    "        if x == my_list[j]:\n",
    "            \n",
    "            print(x)\n",
    "        j = j+1\n",
    "        \n",
    "my_list = list(input(\"Enter a number no space in between \"))\n",
    "print(my_list)\n",
    "x = input(\"Enter a number: \")\n",
    "\n",
    "list_search(x,my_list)"
   ]
  },
  {
   "cell_type": "code",
   "execution_count": null,
   "id": "20e3bc20",
   "metadata": {},
   "outputs": [],
   "source": [
    "thislist = [\"apple\", \"banana\", \"cherry\"]\n",
    "i = 0\n",
    "while i < len(thislist):\n",
    "  print(thislist[i])\n",
    "  i = i + 1"
   ]
  },
  {
   "cell_type": "code",
   "execution_count": 25,
   "id": "9624d4ee",
   "metadata": {},
   "outputs": [
    {
     "name": "stdout",
     "output_type": "stream",
     "text": [
      "Enter a number no space in between 1 2 3 4\n",
      "['1', '2', '3', '4']\n"
     ]
    }
   ],
   "source": [
    "my_list = (input(\"Enter a number no space in between \"))\n",
    "\n",
    "user_list = my_list.split()\n",
    "print(user_list)"
   ]
  },
  {
   "cell_type": "code",
   "execution_count": null,
   "id": "8b6bbae3",
   "metadata": {},
   "outputs": [],
   "source": []
  },
  {
   "cell_type": "code",
   "execution_count": null,
   "id": "e5de872d",
   "metadata": {},
   "outputs": [],
   "source": []
  },
  {
   "cell_type": "code",
   "execution_count": null,
   "id": "687c065d",
   "metadata": {},
   "outputs": [],
   "source": []
  },
  {
   "cell_type": "code",
   "execution_count": null,
   "id": "4da32388",
   "metadata": {},
   "outputs": [],
   "source": []
  },
  {
   "cell_type": "code",
   "execution_count": null,
   "id": "370d361c",
   "metadata": {},
   "outputs": [],
   "source": []
  },
  {
   "cell_type": "code",
   "execution_count": null,
   "id": "e124a014",
   "metadata": {},
   "outputs": [],
   "source": []
  },
  {
   "cell_type": "code",
   "execution_count": null,
   "id": "a686f7f3",
   "metadata": {},
   "outputs": [],
   "source": []
  },
  {
   "cell_type": "code",
   "execution_count": null,
   "id": "4ab28f4a",
   "metadata": {},
   "outputs": [],
   "source": []
  },
  {
   "cell_type": "code",
   "execution_count": null,
   "id": "37683c04",
   "metadata": {},
   "outputs": [],
   "source": []
  },
  {
   "cell_type": "code",
   "execution_count": null,
   "id": "9f4d032c",
   "metadata": {},
   "outputs": [],
   "source": []
  },
  {
   "cell_type": "code",
   "execution_count": null,
   "id": "2fe8c7c9",
   "metadata": {},
   "outputs": [],
   "source": []
  },
  {
   "cell_type": "code",
   "execution_count": null,
   "id": "98af9609",
   "metadata": {},
   "outputs": [],
   "source": []
  },
  {
   "cell_type": "code",
   "execution_count": null,
   "id": "6ca75c7c",
   "metadata": {},
   "outputs": [],
   "source": []
  }
 ],
 "metadata": {
  "kernelspec": {
   "display_name": "Python 3 (ipykernel)",
   "language": "python",
   "name": "python3"
  },
  "language_info": {
   "codemirror_mode": {
    "name": "ipython",
    "version": 3
   },
   "file_extension": ".py",
   "mimetype": "text/x-python",
   "name": "python",
   "nbconvert_exporter": "python",
   "pygments_lexer": "ipython3",
   "version": "3.9.12"
  }
 },
 "nbformat": 4,
 "nbformat_minor": 5
}
